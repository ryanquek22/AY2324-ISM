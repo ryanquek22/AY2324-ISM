{
  "cells": [
    {
      "cell_type": "code",
      "execution_count": null,
      "metadata": {
        "id": "tAzx3LlxFtua"
      },
      "outputs": [],
      "source": [
        "from sec_api import QueryApi\n",
        "\n",
        "queryApi = QueryApi(api_key=\"INSERT API KEY HERE\")"
      ]
    },
    {
      "cell_type": "code",
      "execution_count": null,
      "metadata": {
        "colab": {
          "base_uri": "https://localhost:8080/"
        },
        "id": "552D6tNJF1dp",
        "outputId": "2eaed43a-e84c-4f7a-fac9-b3c50b92d172"
      },
      "outputs": [
        {
          "name": "stdout",
          "output_type": "stream",
          "text": [
            "{'total': {'value': 1, 'relation': 'eq'}, 'query': {'from': 0, 'size': 1}, 'filings': [{'id': 'b23056148187e37ca8d4e32f5b214eef', 'accessionNo': '0000950170-23-001409', 'cik': '1318605', 'ticker': 'TSLA', 'companyName': 'Tesla, Inc.', 'companyNameLong': 'Tesla, Inc. (Filer)', 'formType': '10-K', 'description': 'Form 10-K - Annual report [Section 13 and 15(d), not S-K Item 405]', 'filedAt': '2023-01-30T21:29:15-05:00', 'linkToTxt': 'https://www.sec.gov/Archives/edgar/data/1318605/000095017023001409/0000950170-23-001409.txt', 'linkToHtml': 'https://www.sec.gov/Archives/edgar/data/1318605/000095017023001409/0000950170-23-001409-index.htm', 'linkToXbrl': '', 'linkToFilingDetails': 'https://www.sec.gov/Archives/edgar/data/1318605/000095017023001409/tsla-20221231.htm', 'entities': [{'companyName': 'Tesla, Inc. (Filer)', 'cik': '1318605', 'irsNo': '912197729', 'stateOfIncorporation': 'DE', 'fiscalYearEnd': '1231', 'type': '10-K', 'act': '34', 'fileNo': '001-34756', 'filmNo': '23570030', 'sic': '3711 Motor Vehicles &amp; Passenger Car Bodies'}], 'documentFormatFiles': [{'sequence': '1', 'description': '10-K', 'documentUrl': 'https://www.sec.gov/ix?doc=/Archives/edgar/data/1318605/000095017023001409/tsla-20221231.htm', 'type': '10-K', 'size': '7964288'}, {'sequence': '2', 'description': 'EX-10.59', 'documentUrl': 'https://www.sec.gov/Archives/edgar/data/1318605/000095017023001409/tsla-ex10_59.htm', 'type': 'EX-10.59', 'size': '1739839'}, {'sequence': '3', 'description': 'EX-21.1', 'documentUrl': 'https://www.sec.gov/Archives/edgar/data/1318605/000095017023001409/tsla-ex21_1.htm', 'type': 'EX-21.1', 'size': '536574'}, {'sequence': '4', 'description': 'EX-23.1', 'documentUrl': 'https://www.sec.gov/Archives/edgar/data/1318605/000095017023001409/tsla-ex23_1.htm', 'type': 'EX-23.1', 'size': '4134'}, {'sequence': '5', 'description': 'EX-31.1', 'documentUrl': 'https://www.sec.gov/Archives/edgar/data/1318605/000095017023001409/tsla-ex31_1.htm', 'type': 'EX-31.1', 'size': '19308'}, {'sequence': '6', 'description': 'EX-31.2', 'documentUrl': 'https://www.sec.gov/Archives/edgar/data/1318605/000095017023001409/tsla-ex31_2.htm', 'type': 'EX-31.2', 'size': '19167'}, {'sequence': '7', 'description': 'EX-32.1', 'documentUrl': 'https://www.sec.gov/Archives/edgar/data/1318605/000095017023001409/tsla-ex32_1.htm', 'type': 'EX-32.1', 'size': '20164'}, {'sequence': '8', 'description': 'GRAPHIC', 'documentUrl': 'https://www.sec.gov/Archives/edgar/data/1318605/000095017023001409/img97702838_0.jpg', 'type': 'GRAPHIC', 'size': '91704'}, {'sequence': '\\xa0', 'description': 'Complete submission text file', 'documentUrl': 'https://www.sec.gov/Archives/edgar/data/1318605/000095017023001409/0000950170-23-001409.txt', 'type': '\\xa0', 'size': '31445171'}], 'dataFiles': [{'sequence': '9', 'description': 'XBRL TAXONOMY EXTENSION DEFINITION LINKBASE DOCUMENT', 'documentUrl': 'https://www.sec.gov/Archives/edgar/data/1318605/000095017023001409/tsla-20221231_def.xml', 'type': 'EX-101.DEF', 'size': '550438'}, {'sequence': '10', 'description': 'XBRL TAXONOMY EXTENSION SCHEMA DOCUMENT', 'documentUrl': 'https://www.sec.gov/Archives/edgar/data/1318605/000095017023001409/tsla-20221231.xsd', 'type': 'EX-101.SCH', 'size': '147812'}, {'sequence': '11', 'description': 'XBRL TAXONOMY EXTENSION LABEL LINKBASE DOCUMENT', 'documentUrl': 'https://www.sec.gov/Archives/edgar/data/1318605/000095017023001409/tsla-20221231_lab.xml', 'type': 'EX-101.LAB', 'size': '1070835'}, {'sequence': '12', 'description': 'XBRL TAXONOMY EXTENSION CALCULATION LINKBASE DOCUMENT', 'documentUrl': 'https://www.sec.gov/Archives/edgar/data/1318605/000095017023001409/tsla-20221231_cal.xml', 'type': 'EX-101.CAL', 'size': '136183'}, {'sequence': '13', 'description': 'XBRL TAXONOMY EXTENSION PRESENTATION LINKBASE DOCUMENT', 'documentUrl': 'https://www.sec.gov/Archives/edgar/data/1318605/000095017023001409/tsla-20221231_pre.xml', 'type': 'EX-101.PRE', 'size': '843204'}, {'sequence': '122', 'description': 'EXTRACTED XBRL INSTANCE DOCUMENT', 'documentUrl': 'https://www.sec.gov/Archives/edgar/data/1318605/000095017023001409/tsla-20221231_htm.xml', 'type': 'XML', 'size': '6979618'}], 'seriesAndClassesContractsInformation': [], 'periodOfReport': '2022-12-31'}]}\n"
          ]
        }
      ],
      "source": [
        "query = {\n",
        "  \"query\": { \"query_string\": {\n",
        "      \"query\": \"ticker:TSLA AND filedAt:{2023-01-01 TO 2023-12-31} AND formType:\\\"10-k\\\"\"\n",
        "    } },\n",
        "  \"from\": \"0\",\n",
        "  \"size\": \"1\",\n",
        "  \"sort\": [{ \"filedAt\": { \"order\": \"desc\" } }]\n",
        "}\n",
        "\n",
        "# get filing from SEC website\n",
        "filings = queryApi.get_filings(query)\n",
        "\n",
        "print(filings)"
      ]
    },
    {
      "cell_type": "code",
      "execution_count": null,
      "metadata": {
        "colab": {
          "base_uri": "https://localhost:8080/"
        },
        "id": "Mq-wA5FLGF_j",
        "outputId": "c5939d13-8dd6-4ba9-de30-f4a14a8de926"
      },
      "outputs": [
        {
          "name": "stdout",
          "output_type": "stream",
          "text": [
            "<class 'dict'>\n"
          ]
        }
      ],
      "source": [
        "# check type of data structure returned\n",
        "print(type(eval(str(filings[\"filings\"][0]))))\n",
        "\n",
        "# convert to dictionary\n",
        "temp_dict = eval(str(filings[\"filings\"][0]))"
      ]
    },
    {
      "cell_type": "code",
      "execution_count": null,
      "metadata": {
        "colab": {
          "base_uri": "https://localhost:8080/"
        },
        "id": "zTtj-wz9GTp-",
        "outputId": "13bb2099-d88e-4504-9fe0-2da35f9c7f5c"
      },
      "outputs": [
        {
          "name": "stdout",
          "output_type": "stream",
          "text": [
            "Key: id - Val: b23056148187e37ca8d4e32f5b214eef\n",
            "\n",
            "Key: accessionNo - Val: 0000950170-23-001409\n",
            "\n",
            "Key: cik - Val: 1318605\n",
            "\n",
            "Key: ticker - Val: TSLA\n",
            "\n",
            "Key: companyName - Val: Tesla, Inc.\n",
            "\n",
            "Key: companyNameLong - Val: Tesla, Inc. (Filer)\n",
            "\n",
            "Key: formType - Val: 10-K\n",
            "\n",
            "Key: description - Val: Form 10-K - Annual report [Section 13 and 15(d), not S-K Item 405]\n",
            "\n",
            "Key: filedAt - Val: 2023-01-30T21:29:15-05:00\n",
            "\n",
            "Key: linkToTxt - Val: https://www.sec.gov/Archives/edgar/data/1318605/000095017023001409/0000950170-23-001409.txt\n",
            "\n",
            "Key: linkToHtml - Val: https://www.sec.gov/Archives/edgar/data/1318605/000095017023001409/0000950170-23-001409-index.htm\n",
            "\n",
            "Key: linkToXbrl - Val: \n",
            "\n",
            "Key: linkToFilingDetails - Val: https://www.sec.gov/Archives/edgar/data/1318605/000095017023001409/tsla-20221231.htm\n",
            "\n",
            "Key: entities - Val: [{'companyName': 'Tesla, Inc. (Filer)', 'cik': '1318605', 'irsNo': '912197729', 'stateOfIncorporation': 'DE', 'fiscalYearEnd': '1231', 'type': '10-K', 'act': '34', 'fileNo': '001-34756', 'filmNo': '23570030', 'sic': '3711 Motor Vehicles &amp; Passenger Car Bodies'}]\n",
            "\n",
            "Key: documentFormatFiles - Val: [{'sequence': '1', 'description': '10-K', 'documentUrl': 'https://www.sec.gov/ix?doc=/Archives/edgar/data/1318605/000095017023001409/tsla-20221231.htm', 'type': '10-K', 'size': '7964288'}, {'sequence': '2', 'description': 'EX-10.59', 'documentUrl': 'https://www.sec.gov/Archives/edgar/data/1318605/000095017023001409/tsla-ex10_59.htm', 'type': 'EX-10.59', 'size': '1739839'}, {'sequence': '3', 'description': 'EX-21.1', 'documentUrl': 'https://www.sec.gov/Archives/edgar/data/1318605/000095017023001409/tsla-ex21_1.htm', 'type': 'EX-21.1', 'size': '536574'}, {'sequence': '4', 'description': 'EX-23.1', 'documentUrl': 'https://www.sec.gov/Archives/edgar/data/1318605/000095017023001409/tsla-ex23_1.htm', 'type': 'EX-23.1', 'size': '4134'}, {'sequence': '5', 'description': 'EX-31.1', 'documentUrl': 'https://www.sec.gov/Archives/edgar/data/1318605/000095017023001409/tsla-ex31_1.htm', 'type': 'EX-31.1', 'size': '19308'}, {'sequence': '6', 'description': 'EX-31.2', 'documentUrl': 'https://www.sec.gov/Archives/edgar/data/1318605/000095017023001409/tsla-ex31_2.htm', 'type': 'EX-31.2', 'size': '19167'}, {'sequence': '7', 'description': 'EX-32.1', 'documentUrl': 'https://www.sec.gov/Archives/edgar/data/1318605/000095017023001409/tsla-ex32_1.htm', 'type': 'EX-32.1', 'size': '20164'}, {'sequence': '8', 'description': 'GRAPHIC', 'documentUrl': 'https://www.sec.gov/Archives/edgar/data/1318605/000095017023001409/img97702838_0.jpg', 'type': 'GRAPHIC', 'size': '91704'}, {'sequence': '\\xa0', 'description': 'Complete submission text file', 'documentUrl': 'https://www.sec.gov/Archives/edgar/data/1318605/000095017023001409/0000950170-23-001409.txt', 'type': '\\xa0', 'size': '31445171'}]\n",
            "\n",
            "Key: dataFiles - Val: [{'sequence': '9', 'description': 'XBRL TAXONOMY EXTENSION DEFINITION LINKBASE DOCUMENT', 'documentUrl': 'https://www.sec.gov/Archives/edgar/data/1318605/000095017023001409/tsla-20221231_def.xml', 'type': 'EX-101.DEF', 'size': '550438'}, {'sequence': '10', 'description': 'XBRL TAXONOMY EXTENSION SCHEMA DOCUMENT', 'documentUrl': 'https://www.sec.gov/Archives/edgar/data/1318605/000095017023001409/tsla-20221231.xsd', 'type': 'EX-101.SCH', 'size': '147812'}, {'sequence': '11', 'description': 'XBRL TAXONOMY EXTENSION LABEL LINKBASE DOCUMENT', 'documentUrl': 'https://www.sec.gov/Archives/edgar/data/1318605/000095017023001409/tsla-20221231_lab.xml', 'type': 'EX-101.LAB', 'size': '1070835'}, {'sequence': '12', 'description': 'XBRL TAXONOMY EXTENSION CALCULATION LINKBASE DOCUMENT', 'documentUrl': 'https://www.sec.gov/Archives/edgar/data/1318605/000095017023001409/tsla-20221231_cal.xml', 'type': 'EX-101.CAL', 'size': '136183'}, {'sequence': '13', 'description': 'XBRL TAXONOMY EXTENSION PRESENTATION LINKBASE DOCUMENT', 'documentUrl': 'https://www.sec.gov/Archives/edgar/data/1318605/000095017023001409/tsla-20221231_pre.xml', 'type': 'EX-101.PRE', 'size': '843204'}, {'sequence': '122', 'description': 'EXTRACTED XBRL INSTANCE DOCUMENT', 'documentUrl': 'https://www.sec.gov/Archives/edgar/data/1318605/000095017023001409/tsla-20221231_htm.xml', 'type': 'XML', 'size': '6979618'}]\n",
            "\n",
            "Key: seriesAndClassesContractsInformation - Val: []\n",
            "\n",
            "Key: periodOfReport - Val: 2022-12-31\n",
            "\n"
          ]
        }
      ],
      "source": [
        "# check key and value pairs in dictionary\n",
        "for key, val in temp_dict.items():\n",
        "  print(f\"Key: {key} - Val: {val}\\n\")"
      ]
    },
    {
      "attachments": {},
      "cell_type": "markdown",
      "metadata": {},
      "source": [
        "From the various key and value pairs, we want to utilise the key of linkToFilingDetails to retrieve the html link for each"
      ]
    },
    {
      "cell_type": "code",
      "execution_count": null,
      "metadata": {
        "id": "Xx21hbF_KtEo"
      },
      "outputs": [],
      "source": [
        "from sec_api import RenderApi\n",
        "\n",
        "renderApi = RenderApi(api_key=\"INSERT API KEY HERE\")"
      ]
    },
    {
      "cell_type": "code",
      "execution_count": null,
      "metadata": {
        "id": "OgAS2K4SLzWh"
      },
      "outputs": [],
      "source": [
        "def download_filing(url):\n",
        "  file_name = url.split(\"/\")[-1] + 'l'\n",
        "  print(file_name)\n",
        "  try:\n",
        "    filing = renderApi.get_filing(url)\n",
        "    with open(file_name, \"w\") as f:\n",
        "      f.write(filing)\n",
        "  except Exception as e:\n",
        "    print(\"Problem with {url}\".format(url=url))\n",
        "    print(e)"
      ]
    },
    {
      "cell_type": "code",
      "execution_count": null,
      "metadata": {
        "colab": {
          "base_uri": "https://localhost:8080/"
        },
        "id": "DdMOcRxrMaZo",
        "outputId": "8f52b57d-2e12-443d-c7c4-76b805649c9d"
      },
      "outputs": [
        {
          "name": "stdout",
          "output_type": "stream",
          "text": [
            "tsla-20221231.html\n"
          ]
        }
      ],
      "source": [
        "download_filing(\"https://www.sec.gov/Archives/edgar/data/1318605/000095017023001409/tsla-20221231.htm\")"
      ]
    },
    {
      "cell_type": "code",
      "execution_count": null,
      "metadata": {
        "id": "pPBzAZeVNWBF"
      },
      "outputs": [],
      "source": []
    }
  ],
  "metadata": {
    "colab": {
      "provenance": []
    },
    "kernelspec": {
      "display_name": "Python 3",
      "name": "python3"
    },
    "language_info": {
      "name": "python"
    }
  },
  "nbformat": 4,
  "nbformat_minor": 0
}
